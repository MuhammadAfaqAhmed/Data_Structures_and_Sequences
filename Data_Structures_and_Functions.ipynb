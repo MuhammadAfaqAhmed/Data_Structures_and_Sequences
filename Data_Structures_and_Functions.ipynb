{
 "cells": [
  {
   "attachments": {},
   "cell_type": "markdown",
   "metadata": {},
   "source": [
    "# Data Structures and Sequences\n",
    "\n",
    "- A data structure is a specialized format for organizing, processing, retrieving and storing data. There are several basic and advanced types of data structures, all designed to arrange data to suit a specific purpose. Data structures make it easy for users to access and work with the data they need in appropriate ways. Most importantly, data structures frame the organization of information so that machines and humans can better understand it.\n"
   ]
  },
  {
   "attachments": {},
   "cell_type": "markdown",
   "metadata": {},
   "source": [
    "# Here we will see what are data structures and functions in python\n",
    "\n",
    "1. Tuple\n",
    "   - Sequence of python objects\n",
    "   - Fixed length\n",
    "   - Immutable (once assigned, can not be changed)\n",
    "   - The easiest way to create them is with comman-separated sequence of objects/python values having parentheses around them:"
   ]
  },
  {
   "cell_type": "code",
   "execution_count": 11,
   "metadata": {},
   "outputs": [
    {
     "data": {
      "text/plain": [
       "(1, 2, 3, 4, 5)"
      ]
     },
     "execution_count": 11,
     "metadata": {},
     "output_type": "execute_result"
    }
   ],
   "source": [
    "tup = (1,2,3,4,5)\n",
    "tup"
   ]
  },
  {
   "cell_type": "code",
   "execution_count": 12,
   "metadata": {},
   "outputs": [
    {
     "data": {
      "text/plain": [
       "(1, 2, 3, 4, 5)"
      ]
     },
     "execution_count": 12,
     "metadata": {},
     "output_type": "execute_result"
    }
   ],
   "source": [
    "#In many context of tuples, we can remove parentheses\n",
    "\n",
    "tup = 1, 2, 3, 4, 5\n",
    "tup"
   ]
  },
  {
   "cell_type": "code",
   "execution_count": 10,
   "metadata": {},
   "outputs": [
    {
     "data": {
      "text/plain": [
       "(1, 2, 3, 4, 5)"
      ]
     },
     "execution_count": 10,
     "metadata": {},
     "output_type": "execute_result"
    }
   ],
   "source": [
    "#You can also convert any sequence or iterator to a tuple by invoking tuple\n",
    "\n",
    "tup = tuple([1, 2, 3, 4, 5])\n",
    "tup"
   ]
  },
  {
   "cell_type": "code",
   "execution_count": 4,
   "metadata": {},
   "outputs": [
    {
     "data": {
      "text/plain": [
       "'string'"
      ]
     },
     "execution_count": 4,
     "metadata": {},
     "output_type": "execute_result"
    }
   ],
   "source": [
    "#Tuple of string is as follows\n",
    "\n",
    "tup = ('string')\n",
    "tup"
   ]
  },
  {
   "cell_type": "code",
   "execution_count": 5,
   "metadata": {},
   "outputs": [
    {
     "data": {
      "text/plain": [
       "'s'"
      ]
     },
     "execution_count": 5,
     "metadata": {},
     "output_type": "execute_result"
    }
   ],
   "source": [
    "#Elements can be accessed with square brackets [] as with most other sequence types.\n",
    "\n",
    "tup[0]  #output: s"
   ]
  },
  {
   "cell_type": "code",
   "execution_count": 9,
   "metadata": {},
   "outputs": [
    {
     "data": {
      "text/plain": [
       "('foo', [1, 2], True)"
      ]
     },
     "execution_count": 9,
     "metadata": {},
     "output_type": "execute_result"
    }
   ],
   "source": [
    "#Nested Tuples: Assignment?\n",
    "\n",
    "nested_tuple = tuple(['foo', [1, 2], True])\n",
    "nested_tuple"
   ]
  },
  {
   "attachments": {},
   "cell_type": "markdown",
   "metadata": {},
   "source": [
    "2. List\n",
    "   - Sequence of python objects\n",
    "   - Mutable\n",
    "   - Can be defined as a comma-separated sequence of objects between square brackets"
   ]
  },
  {
   "cell_type": "code",
   "execution_count": 8,
   "metadata": {},
   "outputs": [
    {
     "data": {
      "text/plain": [
       "[1, 2, 3, 4, 5]"
      ]
     },
     "execution_count": 8,
     "metadata": {},
     "output_type": "execute_result"
    }
   ],
   "source": [
    "#code\n",
    "a_list = [1,2,3,4,5]\n",
    "a_list"
   ]
  },
  {
   "attachments": {},
   "cell_type": "markdown",
   "metadata": {},
   "source": [
    "3. Dictionary\n",
    "   - A mapping of unique keys to values\n",
    "   - Can be defined by using curly braces {} and colons to separate keys and values"
   ]
  },
  {
   "cell_type": "code",
   "execution_count": 14,
   "metadata": {},
   "outputs": [
    {
     "data": {
      "text/plain": [
       "{'a': 1, 'b': 2, 'c': 3}"
      ]
     },
     "execution_count": 14,
     "metadata": {},
     "output_type": "execute_result"
    }
   ],
   "source": [
    "#code\n",
    "a_dict = {'a':1, 'b':2, 'c':3}\n",
    "a_dict"
   ]
  },
  {
   "attachments": {},
   "cell_type": "markdown",
   "metadata": {},
   "source": [
    "4. Set\n",
    "   - An unordered collection of unique elements\n",
    "   - Can be defined by placing a comma-separated sequence of elements between curly braces"
   ]
  },
  {
   "cell_type": "code",
   "execution_count": 15,
   "metadata": {},
   "outputs": [
    {
     "data": {
      "text/plain": [
       "{1, 2, 3, 4, 5}"
      ]
     },
     "execution_count": 15,
     "metadata": {},
     "output_type": "execute_result"
    }
   ],
   "source": [
    "#Code\n",
    "a_set = {1,2,3,4,5}\n",
    "a_set"
   ]
  },
  {
   "cell_type": "code",
   "execution_count": 18,
   "metadata": {},
   "outputs": [
    {
     "data": {
      "text/plain": [
       "{3, 4, 5}"
      ]
     },
     "execution_count": 18,
     "metadata": {},
     "output_type": "execute_result"
    }
   ],
   "source": [
    "#Sets support mathematical set operations like union, intersection, difference, and symmetric difference.\n",
    "\n",
    "a_set = {1,2,3,4,5}\n",
    "b_set = {3,4,5,6,7}\n",
    "a_set.union(b_set)  #output: {1,2,3,4,5,6,7}\n",
    "a_set.intersection(b_set)  #output: {3,4,5}"
   ]
  },
  {
   "attachments": {},
   "cell_type": "markdown",
   "metadata": {},
   "source": [
    "5. Built-In Sequence Functions\n",
    "   - Python has a handful of useful sequence functions that you should familiarize yourself with and use at any opportunity.\n",
    "   - enumerate: Returns an enumerate object. It contains the index and value of all the items in the sequence as pairs."
   ]
  },
  {
   "cell_type": "code",
   "execution_count": 19,
   "metadata": {},
   "outputs": [
    {
     "name": "stdout",
     "output_type": "stream",
     "text": [
      "0 1\n",
      "1 2\n",
      "2 3\n",
      "3 4\n",
      "4 5\n"
     ]
    }
   ],
   "source": [
    "#code\n",
    "seq = [1, 2, 3, 4, 5]\n",
    "for i, value in enumerate(seq):\n",
    "    print(i, value)"
   ]
  },
  {
   "cell_type": "code",
   "execution_count": 20,
   "metadata": {},
   "outputs": [
    {
     "data": {
      "text/plain": [
       "[1, 2, 3, 4, 5]"
      ]
     },
     "execution_count": 20,
     "metadata": {},
     "output_type": "execute_result"
    }
   ],
   "source": [
    "#sorted: Returns a new sorted list from the elements of any sequence.\n",
    "seq = [1, 2, 3, 4, 5]\n",
    "sorted(seq)  # output: [1,2,3,4,5]"
   ]
  },
  {
   "cell_type": "code",
   "execution_count": 21,
   "metadata": {},
   "outputs": [
    {
     "data": {
      "text/plain": [
       "[(1, 6), (2, 7), (3, 8), (4, 9), (5, 10)]"
      ]
     },
     "execution_count": 21,
     "metadata": {},
     "output_type": "execute_result"
    }
   ],
   "source": [
    "#zip: “Pairs” up the elements of a number of lists, tuples, or other sequences to create a list of tuples.\n",
    "seq1 = [1,2,3,4,5]\n",
    "seq2 = [6,7,8,9,10]\n",
    "zipped = zip(seq1, seq2)\n",
    "list(zipped)  #output: [(1,6), (2,7), (3,8), (4,9), (5,10)]"
   ]
  },
  {
   "cell_type": "code",
   "execution_count": 22,
   "metadata": {},
   "outputs": [
    {
     "data": {
      "text/plain": [
       "[5, 4, 3, 2, 1]"
      ]
     },
     "execution_count": 22,
     "metadata": {},
     "output_type": "execute_result"
    }
   ],
   "source": [
    "#reversed: Returns a sequence of the elements in the order of reverse of the argument sequence.\n",
    "seq = [1,2,3,4,5]\n",
    "list(reversed(seq))  #output: [5,4,3,2,1]"
   ]
  },
  {
   "cell_type": "code",
   "execution_count": 23,
   "metadata": {},
   "outputs": [
    {
     "data": {
      "text/plain": [
       "{0: 4, 1: 3, 2: 2, 3: 1, 4: 0}"
      ]
     },
     "execution_count": 23,
     "metadata": {},
     "output_type": "execute_result"
    }
   ],
   "source": [
    "#dict: Converts a sequence of (key, value) pairs into a dictionary.\n",
    "mapping = dict(zip(range(5), reversed(range(5))))\n",
    "mapping  #output: {0:4, 1:3, 2:2, 3:1, 4:0}"
   ]
  },
  {
   "cell_type": "code",
   "execution_count": 24,
   "metadata": {},
   "outputs": [
    {
     "data": {
      "text/plain": [
       "[0, 1, 2, 3, 4]"
      ]
     },
     "execution_count": 24,
     "metadata": {},
     "output_type": "execute_result"
    }
   ],
   "source": [
    "#list: Converts a sequence or iterator into a list.\n",
    "list(range(5))  #output: [0,1,2,3,4]"
   ]
  },
  {
   "cell_type": "code",
   "execution_count": 25,
   "metadata": {},
   "outputs": [
    {
     "data": {
      "text/plain": [
       "False"
      ]
     },
     "execution_count": 25,
     "metadata": {},
     "output_type": "execute_result"
    }
   ],
   "source": [
    "#all: Returns True if all elements of the sequence are true (or if the sequence is empty).\n",
    "all([True, 1, {3}])  #output: True\n",
    "all([True, 1, {}])  #output: False"
   ]
  },
  {
   "cell_type": "code",
   "execution_count": 26,
   "metadata": {},
   "outputs": [
    {
     "data": {
      "text/plain": [
       "False"
      ]
     },
     "execution_count": 26,
     "metadata": {},
     "output_type": "execute_result"
    }
   ],
   "source": [
    "#any: Returns True if any element of the sequence is true. If the sequence is empty, returns False.\n",
    "any([True, 1, {}])  #output: True\n",
    "any([False, 0, {}])  #output: False"
   ]
  },
  {
   "cell_type": "code",
   "execution_count": 27,
   "metadata": {},
   "outputs": [
    {
     "data": {
      "text/plain": [
       "10"
      ]
     },
     "execution_count": 27,
     "metadata": {},
     "output_type": "execute_result"
    }
   ],
   "source": [
    "#sum: Sums the elements of an arbitrary sequence.\n",
    "sum(range(5))  #output: 10"
   ]
  },
  {
   "attachments": {},
   "cell_type": "markdown",
   "metadata": {},
   "source": [
    "6. List, Set, and Dictionary Comprehensions\n",
    "   - List comprehensions: A list comprehension is a way to quickly construct a list whose contents obey a simple rule.\n",
    "   - For example, suppose we want to create a list of squares:"
   ]
  },
  {
   "cell_type": "code",
   "execution_count": 28,
   "metadata": {},
   "outputs": [],
   "source": [
    "#code\n",
    "squares = []\n",
    "for x in range(10):\n",
    "    squares.append(x**2)\n"
   ]
  },
  {
   "cell_type": "code",
   "execution_count": 29,
   "metadata": {},
   "outputs": [
    {
     "data": {
      "text/plain": [
       "[0, 1, 4, 9, 16, 25, 36, 49, 64, 81]"
      ]
     },
     "execution_count": 29,
     "metadata": {},
     "output_type": "execute_result"
    }
   ],
   "source": [
    "#A more concise way of doing this is :\n",
    "squares = [x**2 for x in range(10)]\n",
    "squares"
   ]
  },
  {
   "cell_type": "code",
   "execution_count": null,
   "metadata": {},
   "outputs": [],
   "source": [
    "#Set comprehensions: A set comprehension looks just like a list comprehension except you use curly braces,\n",
    "# instead of square brackets.\n",
    "unique_lengths = {len(x) for x in strings}\n",
    "unique_lengths"
   ]
  },
  {
   "cell_type": "code",
   "execution_count": null,
   "metadata": {},
   "outputs": [],
   "source": [
    "#Dictionary comprehensions: A dictionary comprehension looks like a set comprehension except that,\n",
    "# it uses curly braces containing a key: value pair instead of a single value.\n",
    "loc_mapping = {val: index for index, val in enumerate(strings)}"
   ]
  },
  {
   "cell_type": "code",
   "execution_count": 33,
   "metadata": {},
   "outputs": [
    {
     "data": {
      "text/plain": [
       "['Steven']"
      ]
     },
     "execution_count": 33,
     "metadata": {},
     "output_type": "execute_result"
    }
   ],
   "source": [
    "#Nested list comprehensions: You can nest list comprehensions, but the input and output sequence lengths will be the same.\n",
    "all_data = [['John', 'Emily', 'Michael', 'Mary', 'Steven'],\n",
    "            ['Maria', 'Juan', 'Javier', 'Natalia', 'Pilar']]\n",
    "names_of_interest = []\n",
    "for names in all_data:\n",
    "    enough_es = [name for name in names if name.count('e') >= 2]\n",
    "    names_of_interest.extend(enough_es)\n",
    "names_of_interest"
   ]
  },
  {
   "cell_type": "code",
   "execution_count": 34,
   "metadata": {},
   "outputs": [
    {
     "data": {
      "text/plain": [
       "['Steven']"
      ]
     },
     "execution_count": 34,
     "metadata": {},
     "output_type": "execute_result"
    }
   ],
   "source": [
    "#A more concise way of doing this is:\n",
    "result = [name for names in all_data for name in names\n",
    "          if name.count('e') >= 2]\n",
    "result"
   ]
  },
  {
   "attachments": {},
   "cell_type": "markdown",
   "metadata": {},
   "source": [
    "# Functions/Defining and Calling Functions\n",
    "- Functions are defined using the def keyword. For example:"
   ]
  },
  {
   "cell_type": "code",
   "execution_count": 35,
   "metadata": {},
   "outputs": [],
   "source": [
    "def my_function(x, y, z=1.5):\n",
    "    if z > 1:\n",
    "        return z * (x + y)\n",
    "    else:\n",
    "        return z / (x + y)"
   ]
  },
  {
   "cell_type": "code",
   "execution_count": 38,
   "metadata": {},
   "outputs": [],
   "source": [
    "#Functions can return multiple values as a tuple. For example:\n",
    "def f():\n",
    "    a = 5\n",
    "    b = 6\n",
    "    c = 7\n",
    "    return a, b, c"
   ]
  },
  {
   "cell_type": "code",
   "execution_count": 39,
   "metadata": {},
   "outputs": [
    {
     "name": "stdout",
     "output_type": "stream",
     "text": [
      "a is 3 and b is 7 and c is 10\n",
      "a is 25 and b is 5 and c is 24\n",
      "a is 100 and b is 5 and c is 50\n"
     ]
    }
   ],
   "source": [
    "#Functions can also be called using keyword arguments of the form kwarg=value.\n",
    "def func(a, b=5, c=10):\n",
    "    print('a is', a, 'and b is', b, 'and c is', c)\n",
    "func(3, 7)  #output: a is 3 and b is 7 and c is 10\n",
    "func(25, c=24)  #output: a is 25 and b is 5 and c is 24\n",
    "func(c=50, a=100)  #output: a is 100 and b is 5 and c is 50"
   ]
  },
  {
   "cell_type": "code",
   "execution_count": null,
   "metadata": {},
   "outputs": [],
   "source": [
    "#Functions can be passed to other functions. For example:\n",
    "def add_numbers(x, y):\n",
    "    return x + y\n",
    "\n",
    "def apply_to_one(f):\n",
    "    \"\"\"Calls the function f with 1 as its argument\"\"\"\n",
    "    return f(1)\n",
    "\n",
    "my_addition = apply_to_one(add_numbers)"
   ]
  },
  {
   "cell_type": "code",
   "execution_count": 44,
   "metadata": {},
   "outputs": [],
   "source": [
    "#Functions can be defined inside other functions. For example:\n",
    "\n",
    "def my_print(message=\"my default message\"):\n",
    "    print(message)\n",
    "\n",
    "def my_print(message=\"my default message\"):\n",
    "    def print_message():\n",
    "        print(message)\n",
    "        print_message()"
   ]
  },
  {
   "cell_type": "code",
   "execution_count": 45,
   "metadata": {},
   "outputs": [],
   "source": [
    "#Functions can capture local state in the form of closure. For example:\n",
    "def make_adder(n):\n",
    "    \"\"\"Returns a function that adds n to its argument\"\"\"\n",
    "    def adder(k):\n",
    "        return k + n\n",
    "    return adder\n",
    "plus_3 = make_adder(3)\n",
    "plus_5 = make_adder(5)"
   ]
  },
  {
   "attachments": {},
   "cell_type": "markdown",
   "metadata": {},
   "source": [
    "# Anonymous (Lambda) Functions\n",
    "- Python has support for so-called anonymous or lambda functions, which are a way of writing functions consisting of a single statement, the result of which is the return value. They are defined using the lambda keyword, which has no meaning other than “we are declaring an anonymous function”. For example:"
   ]
  },
  {
   "cell_type": "code",
   "execution_count": 46,
   "metadata": {},
   "outputs": [],
   "source": [
    "def short_function(x):\n",
    "    return x * 2\n",
    "\n",
    "def equiv_anon(x): return x * 2"
   ]
  },
  {
   "cell_type": "code",
   "execution_count": 48,
   "metadata": {},
   "outputs": [],
   "source": [
    "#Lambda functions can be used wherever function objects are required. For example:\n",
    "\n",
    "def apply_to_one(f):\n",
    "    \"\"\"Calls the function f with 1 as its argument\"\"\"\n",
    "    return f(1)\n",
    "\n",
    "def my_double(x): return x * 2\n",
    "\n",
    "x = apply_to_one(my_double) #output: 2"
   ]
  },
  {
   "cell_type": "code",
   "execution_count": 50,
   "metadata": {},
   "outputs": [
    {
     "data": {
      "text/plain": [
       "['aaaa', 'foo', 'abab', 'bar', 'card']"
      ]
     },
     "execution_count": 50,
     "metadata": {},
     "output_type": "execute_result"
    }
   ],
   "source": [
    "#Lambda functions are particularly convenient in data analysis because,\n",
    "# there are many cases where the data transformation functions will be simple, one-line functions. For example:\n",
    "strings = ['foo', 'card', 'bar', 'aaaa', 'abab']\n",
    "strings.sort(key=lambda x: len(set(list(x))))\n",
    "strings\n",
    "\n",
    "#The key argument to sort specifies a function that transforms each element before comparison,\n",
    "# In this case, we are sorting strings by the number of distinct letters in each string,\n",
    "# The lambda function passed to sort transforms each string into the number of distinct letters,\n",
    "# The set function builds a collection of distinct letters, and list makes it into a list, so that len can be applied."
   ]
  },
  {
   "attachments": {},
   "cell_type": "markdown",
   "metadata": {},
   "source": [
    "### Errors and Exception Handling\n",
    "- Python has a number of built-in exceptions that are raised when your code encounters an error (something in the program goes wrong). For example, if you try to access a list element with an index that is out of bounds, you’ll get an IndexError:"
   ]
  },
  {
   "cell_type": "code",
   "execution_count": null,
   "metadata": {},
   "outputs": [],
   "source": [
    "#code\n",
    "x = [1, 2, 3]\n",
    "x[10]"
   ]
  },
  {
   "cell_type": "code",
   "execution_count": null,
   "metadata": {},
   "outputs": [],
   "source": [
    "#If you try to open a file that doesn’t exist, you’ll get an IOError:\n",
    "open('myfile.txt')\n",
    "\n",
    "#When these exceptions occur, they usually cause your program to crash,\n",
    "# If you don’t handle the exception, your program will crash and you will see a message like:\n",
    "Traceback(most recent call last):\n",
    "  File \"<stdin>\", line 1, in <module >\n",
    "IndexError: list index out of range"
   ]
  },
  {
   "attachments": {},
   "cell_type": "markdown",
   "metadata": {},
   "source": [
    "- Handling exceptions is one of the most important things that you can do in writing robust programs. If you don’t handle exceptions, your users will see ugly error messages and your program will crash whenever it encounters input that it doesn’t expect. Handling exceptions gracefully allows your program to continue running even if things go wrong.\n",
    "The try and except statements in Python are used to catch and handle exceptions. For example:"
   ]
  },
  {
   "cell_type": "code",
   "execution_count": null,
   "metadata": {},
   "outputs": [],
   "source": [
    "try:\n",
    "    # use `pass` if you don't want any code to execute\n",
    "    pass\n",
    "except Zero\n",
    "DivisionError:\n",
    "    print(\"cannot divide by zero\")\n",
    "except:\n",
    "    print(\"something else went wrong\")"
   ]
  },
  {
   "attachments": {},
   "cell_type": "markdown",
   "metadata": {},
   "source": [
    "- The try statement works as follows. First, the try clause (the statement(s) between the try and except keywords) is executed. If no exception occurs, the except clause is skipped and execution of the try statement is finished. If an exception occurs during execution of the try clause, the rest of the clause is skipped. Then if its type matches the exception named after the except keyword, the except clause is executed, and then execution continues after the try statement. If an exception occurs which does not match the exception named in the except clause, it is passed on to outer try statements; if no handler is found, it is an unhandled exception and execution stops with a message as shown above.\n",
    "\n",
    "### Files and the Operating System\n",
    "\n",
    "- Python has a built-in open function for reading and writing files. The first argument is a string containing the filename. The second argument is another string containing a few characters describing the way in which the file will be used. mode can be 'r' when the file will only be read, 'w' for only writing (an existing file with the same name will be erased), and 'a' opens the file for appending; any data written to the file is automatically added to the end. 'r+' opens the file for both reading and writing. The mode argument is optional; 'r' will be assumed if it’s omitted. In addition, files can be opened in binary mode by appending 'b' to the mode argument. For example:"
   ]
  },
  {
   "cell_type": "code",
   "execution_count": 55,
   "metadata": {},
   "outputs": [
    {
     "data": {
      "text/plain": [
       "<_io.TextIOWrapper name='workfile' mode='w' encoding='UTF-8'>"
      ]
     },
     "execution_count": 55,
     "metadata": {},
     "output_type": "execute_result"
    }
   ],
   "source": [
    "#code\n",
    "f = open('workfile', 'w')\n",
    "f"
   ]
  },
  {
   "attachments": {},
   "cell_type": "markdown",
   "metadata": {},
   "source": [
    "- When you’re done with a file, call f.close() to close it and free up any system resources taken up by the open file. It is good practice to use the with keyword when dealing with file objects. The advantage is that the file is properly closed after its suite finishes, even if an exception is raised at some point. Using with is also much shorter than writing equivalent try-finally blocks:"
   ]
  },
  {
   "cell_type": "code",
   "execution_count": 56,
   "metadata": {},
   "outputs": [
    {
     "data": {
      "text/plain": [
       "True"
      ]
     },
     "execution_count": 56,
     "metadata": {},
     "output_type": "execute_result"
    }
   ],
   "source": [
    "#Code\n",
    "with open('workfile') as f:\n",
    "    read_data = f.read()\n",
    "f.closed"
   ]
  },
  {
   "attachments": {},
   "cell_type": "markdown",
   "metadata": {},
   "source": [
    "- If you’re not using the with keyword, then you should call f.close() to close the file and immediately free up any system resources used by it. If you don’t explicitly close a file, Python’s garbage collector will eventually destroy the object and close the open file for you, but the file may stay open for a while. Another risk is that different Python implementations will do this clean-up at different times. If you want to be sure the file is closed, then call f.close().\n",
    "\n",
    "- f.read(size) reads some quantity of data and returns it as a string (in text mode) or bytes object (in binary mode). size is an optional numeric argument. When size is omitted or negative, the entire contents of the file will be read and returned; it’s your problem if the file is twice as large as your machine’s memory. Otherwise, at most size bytes are read and returned. If the end of the file has been reached, f.read() will return an empty string ('').\n",
    "\n",
    "- f.readline() reads a single line from the file; a newline character (\\n) is left at the end of the string, and is only omitted on the last line of the file if the file doesn’t end in a newline. This makes the return value unambiguous; if f.readline() returns an empty string, the end of the file has been reached, while a blank line is represented by '\\n', a string containing only a single newline. f.readlines() reads the remaining lines from the file object and returns them as a list. The returned list is empty if the end of the file has already been reached. A common pattern when reading a file is to loop over the lines of the file, as in this example:"
   ]
  },
  {
   "cell_type": "code",
   "execution_count": null,
   "metadata": {},
   "outputs": [],
   "source": [
    "#code\n",
    "for line in f:\n",
    "    print(line, end='')\n"
   ]
  },
  {
   "attachments": {},
   "cell_type": "markdown",
   "metadata": {},
   "source": [
    "- f.write(string) writes the contents of string to the file, returning the number of characters written.\n",
    "- f.tell() returns an integer giving the file object’s current position in the file represented as number of bytes from the beginning of the file when in binary mode and an opaque number when in text mode. (Use f.seek(offset, from_what) to change the file object’s position.)\n",
    "- f.seek(offset, from_what) changes the file object’s position. The position is computed from adding offset to a reference point; the reference point is selected by the from_what argument. A from_what value of 0 measures from the beginning of the file, 1 uses the current file position, and 2 uses the end of the file as the reference point. from_what can be omitted and defaults to 0, using the beginning of the file as the reference point.\n",
    "- f.close() closes the file. Like file objects, open() returns a file object, and is most commonly used with two arguments: open(filename, mode).\n",
    "- The mode argument is optional; 'r' will be assumed if it’s omitted. It may be any of the following: 'r' : open for reading (default)\n",
    "'w' : open for writing, truncating the file first\n",
    "'x' : create a new file and open it for writing\n",
    "'a' : open for writing, appending to the end of the file if it exists\n",
    "'b' : binary mode\n",
    "'t' : text mode (default)\n",
    "'+' : open a disk file for updating (reading and writing)\n",
    "'U' : universal newline mode (deprecated)\\\n",
    "- The open() function returns a file object, and is most commonly used with two arguments: open(filename, mode)."
   ]
  },
  {
   "attachments": {},
   "cell_type": "markdown",
   "metadata": {},
   "source": [
    "### Reading and Writing Files\n",
    "\n",
    "- There is a method for reading or writing one line at a time. Each of these methods returns a string that corresponds to the line of text in the file, minus the newline character. If a file is opened in text mode, '\\n' is automatically appended to the string when reading from the file. When writing to the file, '\\n' characters are added to the string. This makes the file easier to read by humans, but if you want to manipulate the data in the file, you’ll have to remove the extra characters."
   ]
  },
  {
   "cell_type": "code",
   "execution_count": 58,
   "metadata": {},
   "outputs": [],
   "source": [
    "#Code\n",
    "f = open('workfile', 'r')\n",
    "f.readline()\n",
    "f.readline()\n",
    "f.readline()\n",
    "f.close()"
   ]
  },
  {
   "cell_type": "code",
   "execution_count": null,
   "metadata": {},
   "outputs": [],
   "source": [
    "#The for statement is more elegant and concise,\n",
    "# It is also much faster than calling f.readline() repeatedly, because there is no function call overhead.\n",
    "for line in f:\n",
    "    print(line, end='')"
   ]
  },
  {
   "cell_type": "code",
   "execution_count": null,
   "metadata": {},
   "outputs": [],
   "source": [
    "#If you want to read all the lines of a file in a list you can also use list(f) or f.readlines().\n",
    "list(f)\n",
    "f.readlines()"
   ]
  },
  {
   "cell_type": "code",
   "execution_count": 61,
   "metadata": {},
   "outputs": [],
   "source": [
    "#The write() method of file objects does not add line separators to the strings it writes,\n",
    "# So if you want to write multiple lines you have to add the new line characters yourself,\n",
    "# The easiest way to do this is by using the string '\\n' as the line separator.\n",
    "\n",
    "f = open('workfile', 'w')\n",
    "f.write('This is a test\\n')\n",
    "f.write('This is a test\\n')\n",
    "f.write('This is a test\\n')\n",
    "f.write('This is a test\\n')\n",
    "f.write('This is a test\\n')\n",
    "f.write('This is a test\\n')\n",
    "f.write('This is a test\\n')\n",
    "f.write('This is a test\\n')\n",
    "f.write('This is a test\\n')\n",
    "f.write('This is a test\\n')\n",
    "f.close()"
   ]
  },
  {
   "cell_type": "code",
   "execution_count": 62,
   "metadata": {},
   "outputs": [
    {
     "data": {
      "text/plain": [
       "True"
      ]
     },
     "execution_count": 62,
     "metadata": {},
     "output_type": "execute_result"
    }
   ],
   "source": [
    "#If you don’t want to have to deal with the file’s close() method, you can use the with statement,\n",
    "# This creates a temporary variable(often called f), which is only accessible in the indented block of the with statement.\n",
    "with open('workfile') as f:\n",
    "    read_data = f.read()\n",
    "f.closed"
   ]
  }
 ],
 "metadata": {
  "kernelspec": {
   "display_name": "base",
   "language": "python",
   "name": "python3"
  },
  "language_info": {
   "codemirror_mode": {
    "name": "ipython",
    "version": 3
   },
   "file_extension": ".py",
   "mimetype": "text/x-python",
   "name": "python",
   "nbconvert_exporter": "python",
   "pygments_lexer": "ipython3",
   "version": "3.10.4"
  },
  "orig_nbformat": 4,
  "vscode": {
   "interpreter": {
    "hash": "308903c5ec01693a29e3da1cf88ac7306ef851b8f077f8037ead7d0cb90d2434"
   }
  }
 },
 "nbformat": 4,
 "nbformat_minor": 2
}
